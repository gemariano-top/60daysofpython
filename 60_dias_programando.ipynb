{
  "nbformat": 4,
  "nbformat_minor": 0,
  "metadata": {
    "colab": {
      "provenance": [],
      "authorship_tag": "ABX9TyPbd3vm+cO2CJFQD6z8LIxc",
      "include_colab_link": true
    },
    "kernelspec": {
      "name": "python3",
      "display_name": "Python 3"
    },
    "language_info": {
      "name": "python"
    }
  },
  "cells": [
    {
      "cell_type": "markdown",
      "metadata": {
        "id": "view-in-github",
        "colab_type": "text"
      },
      "source": [
        "<a href=\"https://colab.research.google.com/github/gemariano-top/60daysofpython/blob/main/60_dias_programando.ipynb\" target=\"_parent\"><img src=\"https://colab.research.google.com/assets/colab-badge.svg\" alt=\"Open In Colab\"/></a>"
      ]
    },
    {
      "cell_type": "code",
      "execution_count": null,
      "metadata": {
        "id": "2QYTsJOYwCT3",
        "colab": {
          "base_uri": "https://localhost:8080/"
        },
        "outputId": "f7841359-f04c-41cc-9b92-41cd520255e0"
      },
      "outputs": [
        {
          "output_type": "stream",
          "name": "stdout",
          "text": [
            "olá mundo\n"
          ]
        }
      ],
      "source": [
        "#Dia 1 - Ola mundo em python\n",
        "\n",
        "print(\"Ola mundo\")"
      ]
    },
    {
      "cell_type": "code",
      "source": [
        "#Dia 2 - Soma de dois numeros 1\n",
        "\n",
        "numero1 = int(input(\"Digite um numero: \"))\n",
        "numero2 = int(input(\"Digite outro numero: \"))\n",
        "\n",
        "resultado = int(numero1 + numero2)\n",
        "\n",
        "print(f\"O resutado da soma de {numero1} e { numero2} é {resultado}\")"
      ],
      "metadata": {
        "colab": {
          "base_uri": "https://localhost:8080/"
        },
        "id": "dhAIkViGy28C",
        "outputId": "4d20f21a-130e-4d11-c3ae-74c5b065c39a"
      },
      "execution_count": null,
      "outputs": [
        {
          "output_type": "stream",
          "name": "stdout",
          "text": [
            "Digite um numero2\n",
            "Digite outro numero2\n",
            "O resutado da soma de 2 e 2 é 4\n"
          ]
        }
      ]
    },
    {
      "cell_type": "code",
      "source": [
        "#Dia 2 - Soma de dois numeros 2\n",
        "\n",
        "def soma(numero1, numero2):\n",
        "    resultado = numero1 + numero2\n",
        "    return resultado\n",
        "\n",
        "numero1 = int(input(\"Digite um numero: \"))\n",
        "numero2 = int(input(\"Digite outro numero: \"))\n",
        "\n",
        "resultado = soma(numero1, numero2)\n",
        "\n",
        "print(f\"O resutado da soma de {numero1} e { numero2} é {resultado}\")"
      ],
      "metadata": {
        "colab": {
          "base_uri": "https://localhost:8080/"
        },
        "id": "hqROYB9L0v_H",
        "outputId": "f8c12c58-c98e-492c-fe07-88a5eeb869a0"
      },
      "execution_count": null,
      "outputs": [
        {
          "output_type": "stream",
          "name": "stdout",
          "text": [
            "Digite um numero: 2\n",
            "Digite outro numero: 2\n",
            "O resutado da soma de 2 e 2 é 4\n"
          ]
        }
      ]
    },
    {
      "cell_type": "code",
      "source": [
        "#Dia 3 - Verifica numero par 1\n",
        "\n",
        "numero = int(input(\"Digite um numero: \"))\n",
        "\n",
        "if numero % 2 == 0:\n",
        "    print(\"O numero é par\")\n",
        "else:\n",
        "        print(\"O numero é impar\")"
      ],
      "metadata": {
        "id": "7EMeNuQu2OB5",
        "colab": {
          "base_uri": "https://localhost:8080/"
        },
        "outputId": "6215215d-0fbc-4a47-ec71-06bd11adc197"
      },
      "execution_count": null,
      "outputs": [
        {
          "output_type": "stream",
          "name": "stdout",
          "text": [
            "Digite um numero: 3\n",
            "O numero é impar\n"
          ]
        }
      ]
    },
    {
      "cell_type": "code",
      "source": [
        "#Dia 3 - Verifica numero par 2\n",
        "\n",
        "entrada = input(\"Digite um numero: \")\n",
        "\n",
        "try:\n",
        "    numero = int(entrada)\n",
        "    if numero % 2 == 0:\n",
        "        print(\"O numero é par\")\n",
        "    else:\n",
        "        print(\"O numero é impar\")\n",
        "except ValueError:\n",
        "    print(\"Entrada inválida. Por favor, digite um número inteiro.\")"
      ],
      "metadata": {
        "colab": {
          "base_uri": "https://localhost:8080/"
        },
        "id": "uEVkabV8X2OZ",
        "outputId": "89a52a48-1e80-45d0-e237-98b8d44d0ca2"
      },
      "execution_count": null,
      "outputs": [
        {
          "output_type": "stream",
          "name": "stdout",
          "text": [
            "Digite um numero: texto\n",
            "Entrada inválida. Por favor, digite um número inteiro.\n"
          ]
        }
      ]
    },
    {
      "cell_type": "code",
      "source": [
        "#Dia 4 - Laco de repeticao 1\n",
        "\n",
        "for numero in range(11):\n",
        "    print(numero)"
      ],
      "metadata": {
        "id": "h4nfPgpnaLEP",
        "outputId": "1e3d0fd1-f875-4a92-b387-a6cd11ee140e",
        "colab": {
          "base_uri": "https://localhost:8080/"
        }
      },
      "execution_count": null,
      "outputs": [
        {
          "output_type": "stream",
          "name": "stdout",
          "text": [
            "0\n",
            "1\n",
            "2\n",
            "3\n",
            "4\n",
            "5\n",
            "6\n",
            "7\n",
            "8\n",
            "9\n",
            "10\n"
          ]
        }
      ]
    },
    {
      "cell_type": "code",
      "source": [
        "#Dia 4 - Laco de repeticao 1\n",
        "\n",
        "numero = 0\n",
        "\n",
        "while numero <= 10:\n",
        "    print(numero)\n",
        "    numero += 1"
      ],
      "metadata": {
        "id": "nFoTBvt9bsUG",
        "outputId": "659d5fcc-dd42-4284-e5ef-8ac107ca2ba5",
        "colab": {
          "base_uri": "https://localhost:8080/"
        }
      },
      "execution_count": null,
      "outputs": [
        {
          "output_type": "stream",
          "name": "stdout",
          "text": [
            "0\n",
            "1\n",
            "2\n",
            "3\n",
            "4\n",
            "5\n",
            "6\n",
            "7\n",
            "8\n",
            "9\n",
            "10\n"
          ]
        }
      ]
    },
    {
      "cell_type": "code",
      "source": [
        "#Dia 5 - Funcao que imprime o quadrado de um numero\n",
        "\n",
        "numero = int(input(\"Digite um numero: \"))\n",
        "\n",
        "def quadrado(numero):\n",
        "    return numero ** 2\n",
        "\n",
        "resultado = quadrado(numero)\n",
        "\n",
        "print(f\"O quadrado de {numero} é {resultado}\")\n"
      ],
      "metadata": {
        "id": "camx_AM9cQmO",
        "colab": {
          "base_uri": "https://localhost:8080/"
        },
        "outputId": "19c07131-27e7-48f6-d17f-5974a2692c4f"
      },
      "execution_count": null,
      "outputs": [
        {
          "output_type": "stream",
          "name": "stdout",
          "text": [
            "Digite um numero: 2\n",
            "O quadrado de 2 é 4\n"
          ]
        }
      ]
    },
    {
      "cell_type": "code",
      "source": [
        "#Dia 6 - Lista de frutas 1\n",
        "\n",
        "frutas = [\"maça\", \"banana\", \"laranja\", \"uva\"]\n",
        "\n",
        "for fruta in frutas:\n",
        "    print(fruta)"
      ],
      "metadata": {
        "colab": {
          "base_uri": "https://localhost:8080/"
        },
        "id": "mxcg53i8-VHM",
        "outputId": "69e71a8e-7a2c-4ba3-8bb5-bcf3f311460c"
      },
      "execution_count": null,
      "outputs": [
        {
          "output_type": "stream",
          "name": "stdout",
          "text": [
            "maça\n",
            "banana\n",
            "laranja\n",
            "uva\n"
          ]
        }
      ]
    },
    {
      "cell_type": "code",
      "source": [
        "#Dia 6 - Lista de frutas 2\n",
        "\n",
        "frutas = []\n",
        "\n",
        "while True:\n",
        "    fruta = input(\"Digite uma fruta: \")\n",
        "    if fruta == \"sair\":\n",
        "        break\n",
        "    frutas.append(fruta)\n",
        "\n",
        "print(frutas)\n"
      ],
      "metadata": {
        "id": "BJYb2axV_VLu",
        "outputId": "5ddefb95-ca9d-475a-9a0b-24fc7e5dd4c8",
        "colab": {
          "base_uri": "https://localhost:8080/"
        }
      },
      "execution_count": null,
      "outputs": [
        {
          "output_type": "stream",
          "name": "stdout",
          "text": [
            "Digite uma fruta: uva\n",
            "Digite uma fruta: banana\n",
            "Digite uma fruta: pera\n",
            "Digite uma fruta: sair\n",
            "['uva', 'banana', 'pera']\n"
          ]
        }
      ]
    },
    {
      "cell_type": "code",
      "source": [
        "#Dia 7 - Dicionario em python 1\n",
        "\n",
        "aluno = {\n",
        "    \"nome\" : \"Geovã\",\n",
        "    \"idade\" : 35,\n",
        "    \"curso\" : \"Python do zero ao hacking\",\n",
        "    \"matricula\" : 12345678\n",
        "}\n",
        "\n",
        "print(\"Nome:\", aluno[\"nome\"])\n",
        "print(\"idade:\", aluno[\"idade\"])\n",
        "print(\"curto:\", aluno[\"curso\"])\n",
        "print(\"matricula:\",aluno[\"matricula\"])\n",
        "\n",
        "\n"
      ],
      "metadata": {
        "id": "qDDkbZVwAK0l",
        "outputId": "4e9b958a-ac50-429a-e4be-f605a5848627",
        "colab": {
          "base_uri": "https://localhost:8080/"
        }
      },
      "execution_count": null,
      "outputs": [
        {
          "output_type": "stream",
          "name": "stdout",
          "text": [
            "Nome: Geovã\n",
            "idade: 35\n",
            "curto: Python do zero ao hacking\n",
            "matricula: 12345678\n"
          ]
        }
      ]
    },
    {
      "cell_type": "code",
      "source": [
        "#Dia 7 - Dicionario em python 2\n",
        "\n",
        "aluno = {}\n",
        "\n",
        "aluno[\"nome\"] = input(\"Digite o nome do aluno: \")\n",
        "aluno[\"idade\"] = int(input(\"Digite a idade do aluno: \"))\n",
        "aluno[\"curso\"] = input(\"Digite o curso do aluno: \")\n",
        "aluno[\"matricula\"] = int(input(\"Digite a matricula do aluno: \"))\n",
        "\n",
        "print(aluno)\n",
        "\n"
      ],
      "metadata": {
        "id": "Td-1Ej3zyEdD",
        "outputId": "717dd0c9-acad-405c-f51a-981598b455e4",
        "colab": {
          "base_uri": "https://localhost:8080/"
        }
      },
      "execution_count": null,
      "outputs": [
        {
          "output_type": "stream",
          "name": "stdout",
          "text": [
            "Digite o nome do aluno: Geovã\n",
            "Digite a idade do aluno: 35\n",
            "Digite o curso do aluno: Python do zero ao hacking\n",
            "Digite a matricula do aluno: 123456789\n",
            "{'nome': 'Geovã', 'idade': 35, 'curso': 'Python do zero ao hacking', 'matricula': 123456789}\n"
          ]
        }
      ]
    },
    {
      "cell_type": "code",
      "source": [
        "#Dia 8 - Check idade 1\n",
        "\n",
        "idade = int(input(\"Digite sua idade: \"))\n",
        "\n",
        "if idade >= 18:\n",
        "    print(\"Você pode dirigir\")\n",
        "else:\n",
        "    print(\"Você não pode dirigir\")\n",
        "\n"
      ],
      "metadata": {
        "id": "kd-BCZfAz4wt",
        "outputId": "2747e199-91be-4cc2-c52b-55b29ea1c53b",
        "colab": {
          "base_uri": "https://localhost:8080/"
        }
      },
      "execution_count": null,
      "outputs": [
        {
          "output_type": "stream",
          "name": "stdout",
          "text": [
            "Digite sua idade: 18\n",
            "Você pode dirigir\n"
          ]
        }
      ]
    },
    {
      "cell_type": "code",
      "source": [
        "#Dia 8 - Check idade 2\n",
        "\n",
        "def pode_dirigir(idade):\n",
        "    idade = int(idade)\n",
        "    if idade >= 18:\n",
        "        return True\n",
        "    else:\n",
        "        return False\n",
        "\n",
        "try:\n",
        "    input_usuario = input(\"Digite sua idade: \")\n",
        "    print(pode_dirigir(input_usuario))\n",
        "except ValueError:\n",
        "    print(\"Entrada inválida. Por favor, digite um número inteiro.\")"
      ],
      "metadata": {
        "id": "TSVweLCZf4hw",
        "outputId": "e7baef92-d2a3-4b75-c94e-ff9187e80d35",
        "colab": {
          "base_uri": "https://localhost:8080/"
        }
      },
      "execution_count": null,
      "outputs": [
        {
          "output_type": "stream",
          "name": "stdout",
          "text": [
            "Digite sua idade: 18\n",
            "True\n"
          ]
        }
      ]
    },
    {
      "cell_type": "code",
      "source": [
        "#Dia 9 - Contador\n",
        "\n",
        "def contador_personalizado():\n",
        "    try:\n",
        "        limite = int(input(\"Digite o máximo do contador: \"))\n",
        "\n",
        "        for i in range(1,limite+1):\n",
        "            print(i)\n",
        "            if i == limite:\n",
        "                print(\"Chegou ao limite\")\n",
        "                break\n",
        "    except ValueError:\n",
        "        print(\"Entrada inválida. Por favor, digite um número inteiro.\")\n",
        "\n",
        "contador_personalizado()"
      ],
      "metadata": {
        "id": "49L7ed61g4CD",
        "colab": {
          "base_uri": "https://localhost:8080/"
        },
        "outputId": "b825c747-01e1-4051-be95-7a771affcc27"
      },
      "execution_count": null,
      "outputs": [
        {
          "output_type": "stream",
          "name": "stdout",
          "text": [
            "Digite o máximo do contador: 10\n",
            "1\n",
            "2\n",
            "3\n",
            "4\n",
            "5\n",
            "6\n",
            "7\n",
            "8\n",
            "9\n",
            "10\n",
            "Chegou ao limite\n"
          ]
        }
      ]
    },
    {
      "cell_type": "code",
      "source": [
        "#Dia 10 - Gerador de senhas\n",
        "\n",
        "import random\n",
        "import string\n",
        "\n",
        "def gerador_de_senhas(tamanho):\n",
        "    comprimento = int(tamanho)\n",
        "    caracteres = string.ascii_letters + string.digits + string.punctuation\n",
        "    senha =  \"\"\n",
        "\n",
        "    while len(senha) < comprimento:\n",
        "        senha += random.choice(caracteres)\n",
        "\n",
        "    print(f\"Sua senha ficou assim: {senha}\")\n",
        "\n",
        "gerador_de_senhas(10)"
      ],
      "metadata": {
        "colab": {
          "base_uri": "https://localhost:8080/"
        },
        "id": "_MFv8kS0vGm3",
        "outputId": "01e410e2-ab51-49c2-c0c7-3e6cc9369738"
      },
      "execution_count": null,
      "outputs": [
        {
          "output_type": "stream",
          "name": "stdout",
          "text": [
            "Sua senha ficou assim: jqhg2pYz;_\n"
          ]
        }
      ]
    },
    {
      "cell_type": "code",
      "source": [
        "#Dia 11 - Lista ordenada\n",
        "\n",
        "lista = [55,22,33,5,2,12,6,3,4,8]\n",
        "\n",
        "numeros_ordenador = sorted(lista)\n",
        "numeros_ordenados2 = sorted(lista, reverse=True)\n",
        "\n",
        "print(numeros_ordenador)\n",
        "print(numeros_ordenados2)\n",
        "\n",
        "\n"
      ],
      "metadata": {
        "colab": {
          "base_uri": "https://localhost:8080/"
        },
        "id": "RseUwErvyR2I",
        "outputId": "756695d3-e066-4f9a-907c-b20e526e5eff"
      },
      "execution_count": null,
      "outputs": [
        {
          "output_type": "stream",
          "name": "stdout",
          "text": [
            "[2, 3, 4, 5, 6, 8, 12, 22, 33, 55]\n",
            "[55, 33, 22, 12, 8, 6, 5, 4, 3, 2]\n"
          ]
        }
      ]
    },
    {
      "cell_type": "code",
      "source": [
        "#Dia 12 - Busca linear\n",
        "\n",
        "def busca_linear(lista, numero_procurado):\n",
        "\n",
        "    \"\"\"\n",
        "    Procurar numero dentro de uma lista utilizando busca linear\n",
        "\n",
        "    :param lista: lista de numeros\n",
        "    :param numero_procurado: o numero estamos procurando\n",
        "    \"\"\"\n",
        "\n",
        "    for i, numero in enumerate(lista):\n",
        "        if numero == numero_procurado:\n",
        "            return i\n",
        "    return -1\n",
        "\n",
        "lista = [10,2,4,6,7,8,11]\n",
        "numero_procurado = 7\n",
        "\n",
        "buscar_numero = busca_linear(lista, numero_procurado)\n",
        "\n",
        "if buscar_numero != -1:\n",
        "    print(f\"O numero {numero_procurado} foi encontrado na posição {buscar_numero}\")\n",
        "else:\n",
        "    print(f\"O numero {numero_procurado} não foi encontrado na lista\")\n"
      ],
      "metadata": {
        "colab": {
          "base_uri": "https://localhost:8080/"
        },
        "id": "qkqHVTDo00NK",
        "outputId": "33b5506c-9479-407f-9f72-e7701564cd69"
      },
      "execution_count": null,
      "outputs": [
        {
          "output_type": "stream",
          "name": "stdout",
          "text": [
            "O numero 7 foi encontrado na posição 4\n"
          ]
        }
      ]
    },
    {
      "cell_type": "code",
      "source": [
        "#Dia 14 - Verificador de numeros primos\n",
        "\n",
        "numero = int(input(\"Digite um numero: \"))\n",
        "\n",
        "primo = True\n",
        "\n",
        "if numero <= 1:\n",
        "    primo = False\n",
        "\n",
        "for i in range(2,int( numero **0.5) + 1):\n",
        "    if numero % i == 0:\n",
        "        primo = False\n",
        "        break\n",
        "\n",
        "if primo:\n",
        "    print(f\"O numero {numero} é primo\")\n",
        "else:\n",
        "    print(f\"O numero {numero} não é primo\")\n"
      ],
      "metadata": {
        "id": "s_FAcG39pZBy",
        "outputId": "65df7956-7407-41bc-d052-61942377f1c5",
        "colab": {
          "base_uri": "https://localhost:8080/"
        }
      },
      "execution_count": 6,
      "outputs": [
        {
          "output_type": "stream",
          "name": "stdout",
          "text": [
            "Digite um numero: 4\n",
            "O numero 4 não é primo\n"
          ]
        }
      ]
    },
    {
      "cell_type": "code",
      "source": [],
      "metadata": {
        "id": "mME_hhBNHqIq"
      },
      "execution_count": null,
      "outputs": []
    }
  ]
}