{
  "nbformat": 4,
  "nbformat_minor": 0,
  "metadata": {
    "colab": {
      "provenance": [],
      "authorship_tag": "ABX9TyO8dqDddCWQOL4/h/pUZtbT",
      "include_colab_link": true
    },
    "kernelspec": {
      "name": "python3",
      "display_name": "Python 3"
    },
    "language_info": {
      "name": "python"
    }
  },
  "cells": [
    {
      "cell_type": "markdown",
      "metadata": {
        "id": "view-in-github",
        "colab_type": "text"
      },
      "source": [
        "<a href=\"https://colab.research.google.com/github/gemariano-top/60daysofpython/blob/main/60_dias_programando.ipynb\" target=\"_parent\"><img src=\"https://colab.research.google.com/assets/colab-badge.svg\" alt=\"Open In Colab\"/></a>"
      ]
    },
    {
      "cell_type": "code",
      "execution_count": null,
      "metadata": {
        "id": "2QYTsJOYwCT3",
        "colab": {
          "base_uri": "https://localhost:8080/"
        },
        "outputId": "f7841359-f04c-41cc-9b92-41cd520255e0"
      },
      "outputs": [
        {
          "output_type": "stream",
          "name": "stdout",
          "text": [
            "olá mundo\n"
          ]
        }
      ],
      "source": [
        "#Dia 1 - Ola mundo em python\n",
        "\n",
        "print(\"Ola mundo\")"
      ]
    },
    {
      "cell_type": "code",
      "source": [
        "#Dia 2 - Soma de dois numeros de duas formas diferentes 1\n",
        "\n",
        "numero1 = int(input(\"Digite um numero: \"))\n",
        "numero2 = int(input(\"Digite outro numero: \"))\n",
        "\n",
        "resultado = int(numero1 + numero2)\n",
        "\n",
        "print(f\"O resutado da soma de {numero1} e { numero2} é {resultado}\")"
      ],
      "metadata": {
        "colab": {
          "base_uri": "https://localhost:8080/"
        },
        "id": "dhAIkViGy28C",
        "outputId": "4d20f21a-130e-4d11-c3ae-74c5b065c39a"
      },
      "execution_count": null,
      "outputs": [
        {
          "output_type": "stream",
          "name": "stdout",
          "text": [
            "Digite um numero2\n",
            "Digite outro numero2\n",
            "O resutado da soma de 2 e 2 é 4\n"
          ]
        }
      ]
    },
    {
      "cell_type": "code",
      "source": [
        "#Dia 2 - Soma de dois numeros de duas formas diferentes 2\n",
        "\n",
        "def soma(numero1, numero2):\n",
        "    resultado = numero1 + numero2\n",
        "    return resultado\n",
        "\n",
        "numero1 = int(input(\"Digite um numero: \"))\n",
        "numero2 = int(input(\"Digite outro numero: \"))\n",
        "\n",
        "resultado = soma(numero1, numero2)\n",
        "\n",
        "print(f\"O resutado da soma de {numero1} e { numero2} é {resultado}\")"
      ],
      "metadata": {
        "colab": {
          "base_uri": "https://localhost:8080/"
        },
        "id": "hqROYB9L0v_H",
        "outputId": "f8c12c58-c98e-492c-fe07-88a5eeb869a0"
      },
      "execution_count": null,
      "outputs": [
        {
          "output_type": "stream",
          "name": "stdout",
          "text": [
            "Digite um numero: 2\n",
            "Digite outro numero: 2\n",
            "O resutado da soma de 2 e 2 é 4\n"
          ]
        }
      ]
    },
    {
      "cell_type": "code",
      "source": [
        "#Dia 3 - Condicional que verifica se um numero e par ou impar 1\n",
        "\n",
        "numero = int(input(\"Digite um numero: \"))\n",
        "\n",
        "if numero % 2 == 0:\n",
        "    print(\"O numero é par\")\n",
        "else:\n",
        "        print(\"O numero é impar\")"
      ],
      "metadata": {
        "id": "7EMeNuQu2OB5",
        "colab": {
          "base_uri": "https://localhost:8080/"
        },
        "outputId": "6215215d-0fbc-4a47-ec71-06bd11adc197"
      },
      "execution_count": null,
      "outputs": [
        {
          "output_type": "stream",
          "name": "stdout",
          "text": [
            "Digite um numero: 3\n",
            "O numero é impar\n"
          ]
        }
      ]
    },
    {
      "cell_type": "code",
      "source": [
        "#Dia 3 - Condicional que verifica se um numero e par ou impar 2\n",
        "\n",
        "entrada = input(\"Digite um numero: \")\n",
        "\n",
        "try:\n",
        "    numero = int(entrada)\n",
        "    if numero % 2 == 0:\n",
        "        print(\"O numero é par\")\n",
        "    else:\n",
        "        print(\"O numero é impar\")\n",
        "except ValueError:\n",
        "    print(\"Entrada inválida. Por favor, digite um número inteiro.\")"
      ],
      "metadata": {
        "colab": {
          "base_uri": "https://localhost:8080/"
        },
        "id": "uEVkabV8X2OZ",
        "outputId": "89a52a48-1e80-45d0-e237-98b8d44d0ca2"
      },
      "execution_count": null,
      "outputs": [
        {
          "output_type": "stream",
          "name": "stdout",
          "text": [
            "Digite um numero: texto\n",
            "Entrada inválida. Por favor, digite um número inteiro.\n"
          ]
        }
      ]
    },
    {
      "cell_type": "code",
      "source": [
        "#Dia 4 - Laço de repetição usando for e while 1\n",
        "\n",
        "for numero in range(11):\n",
        "    print(numero)"
      ],
      "metadata": {
        "id": "h4nfPgpnaLEP",
        "outputId": "1e3d0fd1-f875-4a92-b387-a6cd11ee140e",
        "colab": {
          "base_uri": "https://localhost:8080/"
        }
      },
      "execution_count": null,
      "outputs": [
        {
          "output_type": "stream",
          "name": "stdout",
          "text": [
            "0\n",
            "1\n",
            "2\n",
            "3\n",
            "4\n",
            "5\n",
            "6\n",
            "7\n",
            "8\n",
            "9\n",
            "10\n"
          ]
        }
      ]
    },
    {
      "cell_type": "code",
      "source": [
        "#Dia 4 - Laço de repetição usando for e while 2\n",
        "\n",
        "numero = 0\n",
        "\n",
        "while numero <= 10:\n",
        "    print(numero)\n",
        "    numero += 1"
      ],
      "metadata": {
        "id": "nFoTBvt9bsUG",
        "outputId": "659d5fcc-dd42-4284-e5ef-8ac107ca2ba5",
        "colab": {
          "base_uri": "https://localhost:8080/"
        }
      },
      "execution_count": null,
      "outputs": [
        {
          "output_type": "stream",
          "name": "stdout",
          "text": [
            "0\n",
            "1\n",
            "2\n",
            "3\n",
            "4\n",
            "5\n",
            "6\n",
            "7\n",
            "8\n",
            "9\n",
            "10\n"
          ]
        }
      ]
    },
    {
      "cell_type": "code",
      "source": [
        "#Dia 5 - Funcao que imprimi o quadrado de um numero\n",
        "\n",
        "numero = int(input(\"Digite um numero: \"))\n",
        "\n",
        "def quadrado(numero):\n",
        "    return numero ** 2\n",
        "\n",
        "resultado = quadrado(numero)\n",
        "\n",
        "print(f\"O quadrado de {numero} é {resultado}\")\n"
      ],
      "metadata": {
        "id": "camx_AM9cQmO",
        "colab": {
          "base_uri": "https://localhost:8080/"
        },
        "outputId": "19c07131-27e7-48f6-d17f-5974a2692c4f"
      },
      "execution_count": null,
      "outputs": [
        {
          "output_type": "stream",
          "name": "stdout",
          "text": [
            "Digite um numero: 2\n",
            "O quadrado de 2 é 4\n"
          ]
        }
      ]
    },
    {
      "cell_type": "code",
      "source": [
        "#Dia 6 - Lista de frutas 1\n",
        "\n",
        "frutas = [\"maça\", \"banana\", \"laranja\", \"uva\"]\n",
        "\n",
        "for fruta in frutas:\n",
        "    print(fruta)"
      ],
      "metadata": {
        "colab": {
          "base_uri": "https://localhost:8080/"
        },
        "id": "mxcg53i8-VHM",
        "outputId": "69e71a8e-7a2c-4ba3-8bb5-bcf3f311460c"
      },
      "execution_count": null,
      "outputs": [
        {
          "output_type": "stream",
          "name": "stdout",
          "text": [
            "maça\n",
            "banana\n",
            "laranja\n",
            "uva\n"
          ]
        }
      ]
    },
    {
      "cell_type": "code",
      "source": [
        "#Dia 6 - Lista de frutas 2\n",
        "\n",
        "frutas = []\n",
        "\n",
        "while True:\n",
        "    fruta = input(\"Digite uma fruta: \")\n",
        "    if fruta == \"sair\":\n",
        "        break\n",
        "    frutas.append(fruta)\n",
        "\n",
        "print(frutas)\n"
      ],
      "metadata": {
        "id": "BJYb2axV_VLu",
        "outputId": "5ddefb95-ca9d-475a-9a0b-24fc7e5dd4c8",
        "colab": {
          "base_uri": "https://localhost:8080/"
        }
      },
      "execution_count": null,
      "outputs": [
        {
          "output_type": "stream",
          "name": "stdout",
          "text": [
            "Digite uma fruta: uva\n",
            "Digite uma fruta: banana\n",
            "Digite uma fruta: pera\n",
            "Digite uma fruta: sair\n",
            "['uva', 'banana', 'pera']\n"
          ]
        }
      ]
    },
    {
      "cell_type": "code",
      "source": [
        "#Dia 7 - Dicionario de aluno dinamico e estatico 1\n",
        "\n",
        "aluno = {\n",
        "    \"nome\" : \"Geovã\",\n",
        "    \"idade\" : 35,\n",
        "    \"curso\" : \"Python do zero ao hacking\",\n",
        "    \"matricula\" : 12345678\n",
        "}\n",
        "\n",
        "print(\"Nome:\", aluno[\"nome\"])\n",
        "print(\"idade:\", aluno[\"idade\"])\n",
        "print(\"curto:\", aluno[\"curso\"])\n",
        "print(\"matricula:\",aluno[\"matricula\"])\n",
        "\n",
        "\n"
      ],
      "metadata": {
        "id": "qDDkbZVwAK0l",
        "outputId": "4e9b958a-ac50-429a-e4be-f605a5848627",
        "colab": {
          "base_uri": "https://localhost:8080/"
        }
      },
      "execution_count": null,
      "outputs": [
        {
          "output_type": "stream",
          "name": "stdout",
          "text": [
            "Nome: Geovã\n",
            "idade: 35\n",
            "curto: Python do zero ao hacking\n",
            "matricula: 12345678\n"
          ]
        }
      ]
    },
    {
      "cell_type": "code",
      "source": [
        "#Dia 7 - Dicionario de aluno dinamico e estatico 2\n",
        "\n",
        "aluno = {}\n",
        "\n",
        "aluno[\"nome\"] = input(\"Digite o nome do aluno: \")\n",
        "aluno[\"idade\"] = int(input(\"Digite a idade do aluno: \"))\n",
        "aluno[\"curso\"] = input(\"Digite o curso do aluno: \")\n",
        "aluno[\"matricula\"] = int(input(\"Digite a matricula do aluno: \"))\n",
        "\n",
        "print(aluno)\n",
        "\n"
      ],
      "metadata": {
        "id": "Td-1Ej3zyEdD",
        "outputId": "717dd0c9-acad-405c-f51a-981598b455e4",
        "colab": {
          "base_uri": "https://localhost:8080/"
        }
      },
      "execution_count": null,
      "outputs": [
        {
          "output_type": "stream",
          "name": "stdout",
          "text": [
            "Digite o nome do aluno: Geovã\n",
            "Digite a idade do aluno: 35\n",
            "Digite o curso do aluno: Python do zero ao hacking\n",
            "Digite a matricula do aluno: 123456789\n",
            "{'nome': 'Geovã', 'idade': 35, 'curso': 'Python do zero ao hacking', 'matricula': 123456789}\n"
          ]
        }
      ]
    },
    {
      "cell_type": "code",
      "source": [
        "#Dia 8 - Funcao que verifica se uma pessoa pode dirigir 1\n",
        "\n",
        "idade = int(input(\"Digite sua idade: \"))\n",
        "\n",
        "if idade >= 18:\n",
        "    print(\"Você pode dirigir\")\n",
        "else:\n",
        "    print(\"Você não pode dirigir\")\n",
        "\n"
      ],
      "metadata": {
        "id": "kd-BCZfAz4wt",
        "outputId": "2747e199-91be-4cc2-c52b-55b29ea1c53b",
        "colab": {
          "base_uri": "https://localhost:8080/"
        }
      },
      "execution_count": null,
      "outputs": [
        {
          "output_type": "stream",
          "name": "stdout",
          "text": [
            "Digite sua idade: 18\n",
            "Você pode dirigir\n"
          ]
        }
      ]
    },
    {
      "cell_type": "code",
      "source": [
        "#Dia 8 - Funcao que verifica se uma pessoa pode dirigir 2\n",
        "\n",
        "def pode_dirigir(idade):\n",
        "    idade = int(idade)\n",
        "    if idade >= 18:\n",
        "        return True\n",
        "    else:\n",
        "        return False\n",
        "\n",
        "try:\n",
        "    input_usuario = input(\"Digite sua idade: \")\n",
        "    print(pode_dirigir(input_usuario))\n",
        "except ValueError:\n",
        "    print(\"Entrada inválida. Por favor, digite um número inteiro.\")"
      ],
      "metadata": {
        "id": "TSVweLCZf4hw",
        "outputId": "e7baef92-d2a3-4b75-c94e-ff9187e80d35",
        "colab": {
          "base_uri": "https://localhost:8080/"
        }
      },
      "execution_count": null,
      "outputs": [
        {
          "output_type": "stream",
          "name": "stdout",
          "text": [
            "Digite sua idade: 18\n",
            "True\n"
          ]
        }
      ]
    },
    {
      "cell_type": "code",
      "source": [
        "#Dia 9 - Contador personalizado\n",
        "\n",
        "def contador_personalizado():\n",
        "    try:\n",
        "        limite = int(input(\"Digite o máximo do contador: \"))\n",
        "\n",
        "        for i in range(1,limite+1):\n",
        "            print(i)\n",
        "            if i == limite:\n",
        "                print(\"Chegou ao limite\")\n",
        "                break\n",
        "    except ValueError:\n",
        "        print(\"Entrada inválida. Por favor, digite um número inteiro.\")\n",
        "\n",
        "contador_personalizado()"
      ],
      "metadata": {
        "id": "49L7ed61g4CD",
        "colab": {
          "base_uri": "https://localhost:8080/"
        },
        "outputId": "b825c747-01e1-4051-be95-7a771affcc27"
      },
      "execution_count": null,
      "outputs": [
        {
          "output_type": "stream",
          "name": "stdout",
          "text": [
            "Digite o máximo do contador: 10\n",
            "1\n",
            "2\n",
            "3\n",
            "4\n",
            "5\n",
            "6\n",
            "7\n",
            "8\n",
            "9\n",
            "10\n",
            "Chegou ao limite\n"
          ]
        }
      ]
    },
    {
      "cell_type": "code",
      "source": [
        "#Dia 10 - Gerador de senhas particular\n",
        "\n",
        "import random\n",
        "import string\n",
        "\n",
        "def gerador_de_senhas(tamanho):\n",
        "    comprimento = int(tamanho)\n",
        "    caracteres = string.ascii_letters + string.digits + string.punctuation\n",
        "    senha =  \"\"\n",
        "\n",
        "    while len(senha) < comprimento:\n",
        "        senha += random.choice(caracteres)\n",
        "\n",
        "    print(f\"Sua senha ficou assim: {senha}\")\n",
        "\n",
        "gerador_de_senhas(10)"
      ],
      "metadata": {
        "colab": {
          "base_uri": "https://localhost:8080/"
        },
        "id": "_MFv8kS0vGm3",
        "outputId": "01e410e2-ab51-49c2-c0c7-3e6cc9369738"
      },
      "execution_count": null,
      "outputs": [
        {
          "output_type": "stream",
          "name": "stdout",
          "text": [
            "Sua senha ficou assim: jqhg2pYz;_\n"
          ]
        }
      ]
    },
    {
      "cell_type": "code",
      "source": [
        "#Dia 11 - Usamos a funcao sorted para ordenar uma lista de numeros\n",
        "\n",
        "lista = [55,22,33,5,2,12,6,3,4,8]\n",
        "\n",
        "numeros_ordenador = sorted(lista)\n",
        "numeros_ordenados2 = sorted(lista, reverse=True)\n",
        "\n",
        "print(numeros_ordenador)\n",
        "print(numeros_ordenados2)\n",
        "\n",
        "\n"
      ],
      "metadata": {
        "colab": {
          "base_uri": "https://localhost:8080/"
        },
        "id": "RseUwErvyR2I",
        "outputId": "756695d3-e066-4f9a-907c-b20e526e5eff"
      },
      "execution_count": null,
      "outputs": [
        {
          "output_type": "stream",
          "name": "stdout",
          "text": [
            "[2, 3, 4, 5, 6, 8, 12, 22, 33, 55]\n",
            "[55, 33, 22, 12, 8, 6, 5, 4, 3, 2]\n"
          ]
        }
      ]
    },
    {
      "cell_type": "code",
      "source": [
        "#Dia 12 - Busca linear utilizando listas\n",
        "\n",
        "def busca_linear(lista, numero_procurado):\n",
        "\n",
        "    \"\"\"\n",
        "    Procurar numero dentro de uma lista utilizando busca linear\n",
        "\n",
        "    :param lista: lista de numeros\n",
        "    :param numero_procurado: o numero estamos procurando\n",
        "    \"\"\"\n",
        "\n",
        "    for i, numero in enumerate(lista):\n",
        "        if numero == numero_procurado:\n",
        "            return i\n",
        "    return -1\n",
        "\n",
        "lista = [10,2,4,6,7,8,11]\n",
        "numero_procurado = 7\n",
        "\n",
        "buscar_numero = busca_linear(lista, numero_procurado)\n",
        "\n",
        "if buscar_numero != -1:\n",
        "    print(f\"O numero {numero_procurado} foi encontrado na posição {buscar_numero}\")\n",
        "else:\n",
        "    print(f\"O numero {numero_procurado} não foi encontrado na lista\")\n"
      ],
      "metadata": {
        "colab": {
          "base_uri": "https://localhost:8080/"
        },
        "id": "qkqHVTDo00NK",
        "outputId": "33b5506c-9479-407f-9f72-e7701564cd69"
      },
      "execution_count": null,
      "outputs": [
        {
          "output_type": "stream",
          "name": "stdout",
          "text": [
            "O numero 7 foi encontrado na posição 4\n"
          ]
        }
      ]
    },
    {
      "cell_type": "code",
      "source": [
        "#Dia 13 - Funcao fatorial\n",
        "\n",
        "def fatorial (n):\n",
        "    \"\"\"\n",
        "    Calcula o fatorial de um numero\n",
        "\n",
        "    :param n: numero inteiro e não negativo para ser calculado\n",
        "    :return: o fatorial do número\n",
        "    \"\"\"\n",
        "\n",
        "    if n < 0:\n",
        "        raise ValueError(\"O número não pode ser negativo\")\n",
        "\n",
        "    if n == 0 or n == 1:\n",
        "        return 1\n",
        "\n",
        "    return n * fatorial(n - 1)\n",
        "\n",
        "\n",
        "try:\n",
        "    print(f\"O fatorial igual a {fatorial(-1)}\")\n",
        "\n",
        "except ValueError as e:\n",
        "    print(e)"
      ],
      "metadata": {
        "colab": {
          "base_uri": "https://localhost:8080/"
        },
        "id": "I8nudvYTmEvZ",
        "outputId": "f593cfa3-de90-4fff-e2f0-e5d0ca0fde0d"
      },
      "execution_count": null,
      "outputs": [
        {
          "output_type": "stream",
          "name": "stdout",
          "text": [
            "O número não pode ser negativo\n"
          ]
        }
      ]
    },
    {
      "cell_type": "code",
      "source": [
        "#Dia 14 - Calculador de numeros primos\n",
        "\n",
        "numero = int(input(\"Digite um numero: \"))\n",
        "\n",
        "primo = True\n",
        "\n",
        "if numero <= 1:\n",
        "    primo = False\n",
        "\n",
        "for i in range(2,int( numero **0.5) + 1):\n",
        "    if numero % i == 0:\n",
        "        primo = False\n",
        "        break\n",
        "\n",
        "if primo:\n",
        "    print(f\"O numero {numero} é primo\")\n",
        "else:\n",
        "    print(f\"O numero {numero} não é primo\")\n"
      ],
      "metadata": {
        "id": "s_FAcG39pZBy",
        "outputId": "65df7956-7407-41bc-d052-61942377f1c5",
        "colab": {
          "base_uri": "https://localhost:8080/"
        }
      },
      "execution_count": null,
      "outputs": [
        {
          "output_type": "stream",
          "name": "stdout",
          "text": [
            "Digite um numero: 4\n",
            "O numero 4 não é primo\n"
          ]
        }
      ]
    },
    {
      "cell_type": "code",
      "source": [
        "#Dia 15 - Fibonacci\n",
        "\n",
        "fibonacci = [0, 1]\n",
        "\n",
        "for i in range(8):\n",
        "    proximo_numero = fibonacci[-1] + fibonacci[-2]\n",
        "    fibonacci.append(proximo_numero)\n",
        "\n",
        "print(fibonacci)"
      ],
      "metadata": {
        "id": "mME_hhBNHqIq",
        "colab": {
          "base_uri": "https://localhost:8080/"
        },
        "outputId": "97e08940-691a-4279-f986-e0fb59bfcc59"
      },
      "execution_count": null,
      "outputs": [
        {
          "output_type": "stream",
          "name": "stdout",
          "text": [
            "[0, 1, 1, 2, 3, 5, 8, 13, 21, 34]\n"
          ]
        }
      ]
    },
    {
      "cell_type": "code",
      "source": [
        "#Dia 16 - Anagramas\n",
        "\n",
        "def anagrama(palavra1, palavra2):\n",
        "    \"\"\"\n",
        "    Verifica se duas palavras são anagramas\n",
        "\n",
        "    :param palavra1: primeira palavra\n",
        "    :param palavra2: segunda palavra\n",
        "    :return: True se forem anagramas, False caso contrário\n",
        "    \"\"\"\n",
        "    palavra1 = palavra1.replace(\" \", \"\").lower()\n",
        "    palavra2 = palavra2.replace(\" \", \"\").lower()\n",
        "\n",
        "    if len(palavra1) == len(palavra2):\n",
        "        return f\"{palavra1} e {palavra2} são anagramas\"\n",
        "    else:\n",
        "        return f\"{palavra1} e {palavra2} não são anagramas\"\n",
        "\n",
        "\n",
        "print(anagrama(\"amor\",\"roma\"))\n",
        "\n",
        "\n"
      ],
      "metadata": {
        "colab": {
          "base_uri": "https://localhost:8080/"
        },
        "id": "Jtw0qOJZA1m1",
        "outputId": "7b1185d5-2fb0-4bbc-f828-5d432677867d"
      },
      "execution_count": null,
      "outputs": [
        {
          "output_type": "stream",
          "name": "stdout",
          "text": [
            "amor e roma são anagramas\n"
          ]
        }
      ]
    },
    {
      "cell_type": "code",
      "source": [
        "#Dia 17 - Criamos uma funcao que verifica Palíndromos\n",
        "\n",
        "def eh_palindromo(texto):\n",
        "    \"\"\"\n",
        "    verifica se um texto é um palindromo\n",
        "    param: texto\n",
        "    return: texto informando se é ou não palindromo\n",
        "    \"\"\"\n",
        "    texto = texto.replace(\" \",\"\").lower()\n",
        "    if texto == texto[::-1]:\n",
        "          return f\"{texto} é um palindromo\"\n",
        "    return f\"{texto} não é um palindromo\"\n",
        "\n",
        "print(eh_palindromo(\"subi no onibus\"))\n"
      ],
      "metadata": {
        "colab": {
          "base_uri": "https://localhost:8080/"
        },
        "id": "_QPIUpVsBnaF",
        "outputId": "678010fb-dbc4-4438-d3da-dcd21988903f"
      },
      "execution_count": null,
      "outputs": [
        {
          "output_type": "stream",
          "name": "stdout",
          "text": [
            "subinoonibus é um palindromo\n"
          ]
        }
      ]
    },
    {
      "cell_type": "code",
      "source": [
        "#Dia 18 - Contabilizar palavras de uma string\n",
        "\n",
        "def contar_palavras(texto):\n",
        "    \"\"\"\n",
        "    Conta a quantidade de palavras em um texto\n",
        "    param: texto\n",
        "    return: quantidade de palavras\n",
        "    \"\"\"\n",
        "\n",
        "    palavras = texto.split()\n",
        "    return len(palavras)\n",
        "\n",
        "print(contar_palavras(\"Ola meu nome é geova\"))\n",
        "\n"
      ],
      "metadata": {
        "colab": {
          "base_uri": "https://localhost:8080/"
        },
        "id": "0dZD7Jrgm6tj",
        "outputId": "59e9468a-9e13-4b4f-bf54-d0ad2c01102a"
      },
      "execution_count": null,
      "outputs": [
        {
          "output_type": "stream",
          "name": "stdout",
          "text": [
            "5\n"
          ]
        }
      ]
    },
    {
      "cell_type": "code",
      "source": [
        "#Dia 19 - Calcular media de notas\n",
        "\n",
        "def media_notas(notas):\n",
        "    \"\"\"\n",
        "    Calcula a média e uma lista de notas\n",
        "    param: notas\n",
        "    return: média das notas\n",
        "    \"\"\"\n",
        "    media = sum(notas) / len(notas)\n",
        "\n",
        "    return round(media,2)\n",
        "\n",
        "print(media_notas([10,4,5,6,9]))"
      ],
      "metadata": {
        "id": "Gka4Cx0ruJ5T",
        "colab": {
          "base_uri": "https://localhost:8080/"
        },
        "outputId": "9bcfde62-b8e5-47f6-cc49-d1e1ec7b8758"
      },
      "execution_count": null,
      "outputs": [
        {
          "output_type": "stream",
          "name": "stdout",
          "text": [
            "6.8\n"
          ]
        }
      ]
    },
    {
      "cell_type": "code",
      "source": [
        "#Dia 20 - Matriz transposta\n",
        "\n",
        "def transpor_matriz(matriz):\n",
        "    \"\"\"\n",
        "    Transpoe uma matriz\n",
        "    param: matriz\n",
        "    return: matriz transposta\n",
        "    \"\"\"\n",
        "\n",
        "    if len(matriz) != 3 or not all(len(linha) == 3 for linha in matriz):\n",
        "        raise ValueError(\"A matriz deve ter 3 linhas e 3 colunas\")\n",
        "\n",
        "    matriz_transposta = [[matriz[j][i] for j in range(len(matriz))] for i in range(len(matriz[0]))]\n",
        "\n",
        "    return matriz_transposta\n",
        "\n",
        "matriz = [\n",
        "    [1, 2, 3],\n",
        "    [4, 5, 6],\n",
        "    [7, 8, 9]\n",
        "        ]\n",
        "\n",
        "print(transpor_matriz(matriz))"
      ],
      "metadata": {
        "colab": {
          "base_uri": "https://localhost:8080/"
        },
        "id": "8_5ba5Zd-nbm",
        "outputId": "24959b50-2841-4821-ba51-da89e97eb871"
      },
      "execution_count": null,
      "outputs": [
        {
          "output_type": "stream",
          "name": "stdout",
          "text": [
            "[[1, 4, 7], [2, 5, 8], [3, 6, 9]]\n"
          ]
        }
      ]
    },
    {
      "cell_type": "code",
      "source": [
        "#Dia 21 - Conversor de moedas dolar para real\n",
        "\n",
        "def conversor_moeda(valor, cambio, tipo):\n",
        "    \"\"\"\n",
        "    Converte um valor de uma moeda para outra\n",
        "    param: valor: Valor a ser convertido\n",
        "           cambio: Valor do cambio\n",
        "           tipo: Tipo de conversão\n",
        "    return: valor convertido\n",
        "    \"\"\"\n",
        "\n",
        "    if tipo == \"para_real\":\n",
        "        valor_convertido = valor * cambio\n",
        "        return round(valor_convertido,2)\n",
        "    elif tipo == \"para_dolar\":\n",
        "        valor_convertido = valor / cambio\n",
        "        return round(valor_convertido,2)\n",
        "    else:\n",
        "        return ValueError(\"Tipo de conversão inválido\")\n",
        "\n",
        "print(conversor_moeda(12, 6.1,\"para_dolar\"))\n"
      ],
      "metadata": {
        "colab": {
          "base_uri": "https://localhost:8080/"
        },
        "id": "SO238i3VC3JN",
        "outputId": "8ca9ee64-6226-4dee-e778-c57652363289"
      },
      "execution_count": null,
      "outputs": [
        {
          "output_type": "stream",
          "name": "stdout",
          "text": [
            "1.97\n"
          ]
        }
      ]
    },
    {
      "cell_type": "code",
      "source": [
        "#Dia 22 - Calculadora de IMC\n",
        "\n",
        "def calculadora_imc():\n",
        "    \"\"\"\n",
        "    Função calcula o IMC\n",
        "    \"\"\"\n",
        "\n",
        "    print(\"Bem-vindo a calculadora de IMC\")\n",
        "\n",
        "    try:\n",
        "        peso = float(input(\"Digite seu peso em kg: \"))\n",
        "        altura = float(input(\"Digite sua altura em metros: \"))\n",
        "\n",
        "        if peso < 0 or altura < 0:\n",
        "            print(\"O valor precisa ser maior que zero\")\n",
        "            return\n",
        "\n",
        "        imc = peso / (altura **2)\n",
        "\n",
        "        if imc < 18.5:\n",
        "            print(\"Você está abaixo do peso ideal.\")\n",
        "        elif 18.5 <= imc > 24.9:\n",
        "            print(\"Você está com o peso ideal.\")\n",
        "        elif 25 <= imc > 29.9:\n",
        "            print(\"Você está com sobrepeso.\")\n",
        "        else:\n",
        "            print(\"Você está com obesidade.\")\n",
        "\n",
        "    except ValueError:\n",
        "        print(\"Entrada inválida. Por favor, digite um número válido.\")\n",
        "\n",
        "\n",
        "if __name__ == \"__main__\":\n",
        "    calculadora_imc()\n",
        "\n"
      ],
      "metadata": {
        "colab": {
          "base_uri": "https://localhost:8080/"
        },
        "id": "2jcVcwC_Kgal",
        "outputId": "ad66a42f-65dd-41ed-dcab-a616b94110cc"
      },
      "execution_count": null,
      "outputs": [
        {
          "output_type": "stream",
          "name": "stdout",
          "text": [
            "Bem-vindo a calculadora de IMC\n",
            "Digite seu peso em kg: 85\n",
            "Digite sua altura em metros: 1.68\n",
            "Você está com o peso ideal.\n"
          ]
        }
      ]
    },
    {
      "cell_type": "code",
      "source": [
        "#Dia 23 - Jogo da adivinhacao em Python\n",
        "\n",
        "import random\n",
        "\n",
        "def Jogo_adivinhacao():\n",
        "    \"\"\"\n",
        "    Jogo aonde o usuario tenta adivinhar um numero aleatorio\n",
        "    \"\"\"\n",
        "\n",
        "    numero_secreto = random.randint(1, 10)\n",
        "\n",
        "    tentativas = 0\n",
        "\n",
        "    print(\"Bem-vindo ao jogo de adivinhação\")\n",
        "    print(\"Tente adivinhar o numero secreto entre 1 e 10\")\n",
        "\n",
        "    while True:\n",
        "        try:\n",
        "            palpite = int(input(\"Digite seu palpite:\"))\n",
        "            tentativas += 1\n",
        "\n",
        "            if palpite < numero_secreto:\n",
        "                print(\"Tente um numero maior\")\n",
        "            elif palpite > numero_secreto:\n",
        "                print(\"Tente um numero menor\")\n",
        "            else:\n",
        "                print(f\"Parabens, você acertou o numero secreto {numero_secreto} em {tentativas} tentativas\")\n",
        "                break\n",
        "\n",
        "        except ValueError:\n",
        "            print(\"Entrada inválida. Por favor, digite um número inteiro.\")\n",
        "\n",
        "\n",
        "if __name__ == \"__main__\":\n",
        "    Jogo_adivinhacao()\n"
      ],
      "metadata": {
        "id": "bPGa8eIdPbw3",
        "colab": {
          "base_uri": "https://localhost:8080/"
        },
        "outputId": "68c2f5c0-e2c4-4b0a-c769-07564f8de4c5"
      },
      "execution_count": null,
      "outputs": [
        {
          "output_type": "stream",
          "name": "stdout",
          "text": [
            "Bem-vindo ao jogo de adivinhação\n",
            "Tente adivinhar o numero secreto entre 1 e 10\n",
            "Digite seu palpite:5\n",
            "Tente um numero maior\n",
            "Digite seu palpite:9\n",
            "Tente um numero menor\n",
            "Digite seu palpite:6\n",
            "Parabens, você acertou o numero secreto 6 em 3 tentativas\n"
          ]
        }
      ]
    },
    {
      "cell_type": "code",
      "source": [
        "#Dia 24 - Criamos uma tabuado em Python\n",
        "\n",
        "def tabuada():\n",
        "    \"\"\"\n",
        "    Função que imprime a tabuada de um numeto\n",
        "    :param: Numero para imprimir a tabuada\n",
        "    :return: Tabuada do numero\n",
        "    \"\"\"\n",
        "\n",
        "    try:\n",
        "        numero = int(input(\"Digite um numero para imprimir a tabuada:\"))\n",
        "\n",
        "        print(f\"\\nTabuada do {numero}:\")\n",
        "\n",
        "        for i in range(1,11):\n",
        "            resultado = numero * i\n",
        "            print(f\"{numero} x {i} = {resultado}\")\n",
        "\n",
        "    except ValueError:\n",
        "        print(\"Entrada inválida. Digite um número\")\n",
        "\n",
        "if __name__ == \"__main__\":\n",
        "    tabuada()"
      ],
      "metadata": {
        "colab": {
          "base_uri": "https://localhost:8080/"
        },
        "id": "BQUoEj6_tZyg",
        "outputId": "e1f5e0f5-6528-4ee8-ae3f-0c80ee219cb3"
      },
      "execution_count": null,
      "outputs": [
        {
          "output_type": "stream",
          "name": "stdout",
          "text": [
            "Digite um numero para imprimir a tabuada:5\n",
            "\n",
            "Tabuada do 5:\n",
            "5 x 1 = 5\n",
            "5 x 2 = 10\n",
            "5 x 3 = 15\n",
            "5 x 4 = 20\n",
            "5 x 5 = 25\n",
            "5 x 6 = 30\n",
            "5 x 7 = 35\n",
            "5 x 8 = 40\n",
            "5 x 9 = 45\n",
            "5 x 10 = 50\n"
          ]
        }
      ]
    },
    {
      "cell_type": "code",
      "source": [
        "#Dia 25 - Criamos um codigo que gera 10 numeros aleatorios\n",
        "\n",
        "import random\n",
        "\n",
        "def gerador_de_numeros():\n",
        "    \"\"\"\n",
        "    Função que gera 10 numeros aleatorios de 1 a 100\n",
        "    :return: 10 numeros aleatorios\n",
        "    \"\"\"\n",
        "\n",
        "    print(\"Bem vindo ao gerador de números aleatórios\")\n",
        "\n",
        "    numeros_aleatorios = []\n",
        "\n",
        "    for _ in range(10):\n",
        "        numero = random.randint(1, 100)\n",
        "        numeros_aleatorios.append(numero)\n",
        "\n",
        "    print(f\"\\nOs números aleatórios gerados são:\")\n",
        "\n",
        "    for i, numero in enumerate(numeros_aleatorios, start=1):\n",
        "        print(f\"Numero {i}:{numero}\")\n",
        "\n",
        "\n",
        "if __name__ == \"__main__\":\n",
        "    gerador_de_numeros()\n"
      ],
      "metadata": {
        "colab": {
          "base_uri": "https://localhost:8080/"
        },
        "id": "qC8i-g4MutET",
        "outputId": "b046418a-e380-4b23-d6aa-a0b9196deff1"
      },
      "execution_count": null,
      "outputs": [
        {
          "output_type": "stream",
          "name": "stdout",
          "text": [
            "Bem vindo ao gerador de números aleatórios\n",
            "\n",
            "Os números aleatórios gerados são:\n",
            "Numero 1:44\n",
            "Numero 2:57\n",
            "Numero 3:58\n",
            "Numero 4:12\n",
            "Numero 5:60\n",
            "Numero 6:81\n",
            "Numero 7:46\n",
            "Numero 8:91\n",
            "Numero 9:75\n",
            "Numero 10:68\n"
          ]
        }
      ]
    },
    {
      "cell_type": "code",
      "source": [
        "#Dia 26 - Criando uma funcao para escrever em .txt\n",
        "\n",
        "def escrever_em_arquivo(nome_arquivo, conteudo):\n",
        "    \"\"\"\n",
        "    Escreve conteudo em um arquivo txt\n",
        "    :param nome_arquivo: nome do arquivo\n",
        "    :param conteudo: conteudo a ser escrito no arquivo\n",
        "    \"\"\"\n",
        "\n",
        "    with open(nome_arquivo, \"w\") as arquivo:\n",
        "        arquivo.write(conteudo)\n",
        "\n",
        "        print(f\"O conteuno foi salvo no arquivo {nome_arquivo}\")\n",
        "\n",
        "def ler_arquivo(nome_arquivo):\n",
        "    \"\"\"\n",
        "    Lê o conteudo de um arquivo txt\n",
        "    :param nome_arquivo: nome do arquivo\n",
        "    :return: conteudo do arquivo\n",
        "    \"\"\"\n",
        "    try:\n",
        "        with open(nome_arquivo, \"r\") as arquivo:\n",
        "            conteudo = arquivo.read()\n",
        "        print(f\"Conteudo do arquivo {nome_arquivo}:\")\n",
        "        print(conteudo)\n",
        "    except FileNotFoundError:\n",
        "        print(f\"O arquivo {nome_arquivo} não foi encontrado\")\n",
        "\n",
        "\n",
        "def main(nome_arquivo, conteudo):\n",
        "    \"\"\"\n",
        "    Função principal que demonstra escrita e leitura em nosso arquivo\n",
        "    :param nome_arquivo: nome do arquivo\n",
        "    :param conteudo: conteudo a ser escrito no arquivo\n",
        "    \"\"\"\n",
        "    print(f\"Bem vindo ao programa de escrita e leitura em arquivo\")\n",
        "    escrever_em_arquivo(nome_arquivo, conteudo)\n",
        "    ler_arquivo(nome_arquivo)\n",
        "\n",
        "\n",
        "if __name__ == \"__main__\":\n",
        "    arquivo = \"exemplo.txt\"\n",
        "    conteudo = \"Olá, este é um exemplo de escrita em arquivo\"\n",
        "    main(arquivo, conteudo)\n"
      ],
      "metadata": {
        "id": "xvDdhX2lw35U",
        "colab": {
          "base_uri": "https://localhost:8080/"
        },
        "outputId": "fb791de5-9331-4a3b-8c56-3c88efc5fd54"
      },
      "execution_count": 3,
      "outputs": [
        {
          "output_type": "stream",
          "name": "stdout",
          "text": [
            "Bem vindo ao programa de escrita e leitura em arquivo\n",
            "O conteuno foi salvo no arquivo exemplo.txt\n",
            "Conteudo do arquivo exemplo.txt:\n",
            "Olá, este é um exemplo de escrita em arquivo\n"
          ]
        }
      ]
    },
    {
      "cell_type": "code",
      "source": [
        "#Dia 27 - Conversor de temperatura\n",
        "\n",
        "def celcius_para_fahrenheit(celcius):\n",
        "    \"\"\"\n",
        "    Converte temperatura de celcius para fahrenheit\n",
        "    :param celcius(float): temperatura em celcius\n",
        "    :return: temperatura em fahrenheit\n",
        "    \"\"\"\n",
        "    return round((celcius * 9/5) + 32,2)\n",
        "\n",
        "def fahrenheit_para_celcius(fahrenheit):\n",
        "    \"\"\"\n",
        "    Converte temperatura de fahrenheit para celcius\n",
        "    :param fahrenheit(float): temperatura em fahrenheit\n",
        "    :return: temperatura em celcius\n",
        "    \"\"\"\n",
        "    return round((fahrenheit - 32) * 5/9,2)\n",
        "\n",
        "def main(temepratura, tipo_conversao):\n",
        "    \"\"\"\n",
        "    Função principal que recebe a temperatura e tipo de conversão e retorna a temeratura convertida\n",
        "    :param temepratura(float): temperatura a ser convertida\n",
        "    :param tipo_conversao(str): tipo de conversão a ser realizada\n",
        "    :return: temperatura convertida\n",
        "    \"\"\"\n",
        "\n",
        "    if tipo_conversao == \"celcius\":\n",
        "        print(celcius_para_fahrenheit(temepratura))\n",
        "    elif tipo_conversao == \"fahrenheit\":\n",
        "        print(fahrenheit_para_celcius(temepratura))\n",
        "    else:\n",
        "        print(\"Tipo de conversão inválido\")\n",
        "\n",
        "if __name__ == \"__main__\":\n",
        "    main(20,\"celcius\")\n",
        "    main(20,\"fahrenheit\")"
      ],
      "metadata": {
        "colab": {
          "base_uri": "https://localhost:8080/"
        },
        "id": "fUeq_5Fb9Pcb",
        "outputId": "4e43e457-3e49-46b3-e731-72a6d465bbc9"
      },
      "execution_count": 6,
      "outputs": [
        {
          "output_type": "stream",
          "name": "stdout",
          "text": [
            "68.0\n",
            "-6.67\n"
          ]
        }
      ]
    },
    {
      "cell_type": "code",
      "source": [
        "#Dia 28 - Cronometro\n",
        "import time\n",
        "\n",
        "def cronometro(tempo):\n",
        "    \"\"\"\n",
        "    Funcao que cria um cronometro, que conta ate o tempo especificado\n",
        "    \"\"\"\n",
        "\n",
        "    print(\"Iniciando cronometro...\")\n",
        "\n",
        "    for segundo in range(tempo + 1):\n",
        "        print(f\"Tempo: {segundo} segundos\", end=\"\\r\")\n",
        "        time.sleep(1)\n",
        "\n",
        "    print(\"\\nCronometro finalizado!\")\n",
        "\n",
        "if __name__ == \"__main__\":\n",
        "    tempo = 10\n",
        "    cronometro(tempo)\n"
      ],
      "metadata": {
        "id": "Pz_Du6yG_Pxe",
        "outputId": "dbf5d4a2-c0f6-435c-f5c6-06ef7b8e1e59",
        "colab": {
          "base_uri": "https://localhost:8080/"
        }
      },
      "execution_count": 9,
      "outputs": [
        {
          "output_type": "stream",
          "name": "stdout",
          "text": [
            "Iniciando cronometro...\n",
            "\n",
            "Cronometro finalizado!\n"
          ]
        }
      ]
    },
    {
      "cell_type": "code",
      "source": [],
      "metadata": {
        "id": "KymgSfChCnWM"
      },
      "execution_count": null,
      "outputs": []
    }
  ]
}