{
  "nbformat": 4,
  "nbformat_minor": 0,
  "metadata": {
    "colab": {
      "provenance": [],
      "authorship_tag": "ABX9TyMDK9jcVX/Ge8vsxBGFj3cY",
      "include_colab_link": true
    },
    "kernelspec": {
      "name": "python3",
      "display_name": "Python 3"
    },
    "language_info": {
      "name": "python"
    }
  },
  "cells": [
    {
      "cell_type": "markdown",
      "metadata": {
        "id": "view-in-github",
        "colab_type": "text"
      },
      "source": [
        "<a href=\"https://colab.research.google.com/github/gemariano-top/60daysofpython/blob/main/60_dias_programando.ipynb\" target=\"_parent\"><img src=\"https://colab.research.google.com/assets/colab-badge.svg\" alt=\"Open In Colab\"/></a>"
      ]
    },
    {
      "cell_type": "code",
      "execution_count": 1,
      "metadata": {
        "id": "2QYTsJOYwCT3",
        "colab": {
          "base_uri": "https://localhost:8080/"
        },
        "outputId": "f7841359-f04c-41cc-9b92-41cd520255e0"
      },
      "outputs": [
        {
          "output_type": "stream",
          "name": "stdout",
          "text": [
            "olá mundo\n"
          ]
        }
      ],
      "source": [
        "print(\"olá mundo\")"
      ]
    },
    {
      "cell_type": "code",
      "source": [
        "numero1 = int(input(\"Digite um numero: \"))\n",
        "numero2 = int(input(\"Digite outro numero: \"))\n",
        "\n",
        "resultado = int(numero1 + numero2)\n",
        "\n",
        "print(f\"O resutado da soma de {numero1} e { numero2} é {resultado}\")"
      ],
      "metadata": {
        "colab": {
          "base_uri": "https://localhost:8080/"
        },
        "id": "dhAIkViGy28C",
        "outputId": "4d20f21a-130e-4d11-c3ae-74c5b065c39a"
      },
      "execution_count": 6,
      "outputs": [
        {
          "output_type": "stream",
          "name": "stdout",
          "text": [
            "Digite um numero2\n",
            "Digite outro numero2\n",
            "O resutado da soma de 2 e 2 é 4\n"
          ]
        }
      ]
    },
    {
      "cell_type": "code",
      "source": [],
      "metadata": {
        "id": "hqROYB9L0v_H"
      },
      "execution_count": null,
      "outputs": []
    }
  ]
}