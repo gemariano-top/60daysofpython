{
  "nbformat": 4,
  "nbformat_minor": 0,
  "metadata": {
    "colab": {
      "provenance": [],
      "authorship_tag": "ABX9TyNZVgLPuOlxsCGuAwLrKP4k",
      "include_colab_link": true
    },
    "kernelspec": {
      "name": "python3",
      "display_name": "Python 3"
    },
    "language_info": {
      "name": "python"
    }
  },
  "cells": [
    {
      "cell_type": "markdown",
      "metadata": {
        "id": "view-in-github",
        "colab_type": "text"
      },
      "source": [
        "<a href=\"https://colab.research.google.com/github/gemariano-top/60daysofpython/blob/main/60_dias_programando.ipynb\" target=\"_parent\"><img src=\"https://colab.research.google.com/assets/colab-badge.svg\" alt=\"Open In Colab\"/></a>"
      ]
    },
    {
      "cell_type": "code",
      "execution_count": null,
      "metadata": {
        "id": "2QYTsJOYwCT3",
        "colab": {
          "base_uri": "https://localhost:8080/"
        },
        "outputId": "f7841359-f04c-41cc-9b92-41cd520255e0"
      },
      "outputs": [
        {
          "output_type": "stream",
          "name": "stdout",
          "text": [
            "olá mundo\n"
          ]
        }
      ],
      "source": [
        "#Dia 1 - Ola mundo em python\n",
        "\n",
        "print(\"Ola mundo\")"
      ]
    },
    {
      "cell_type": "code",
      "source": [
        "#Dia 2 - Soma de dois numeros 1\n",
        "\n",
        "numero1 = int(input(\"Digite um numero: \"))\n",
        "numero2 = int(input(\"Digite outro numero: \"))\n",
        "\n",
        "resultado = int(numero1 + numero2)\n",
        "\n",
        "print(f\"O resutado da soma de {numero1} e { numero2} é {resultado}\")"
      ],
      "metadata": {
        "colab": {
          "base_uri": "https://localhost:8080/"
        },
        "id": "dhAIkViGy28C",
        "outputId": "4d20f21a-130e-4d11-c3ae-74c5b065c39a"
      },
      "execution_count": null,
      "outputs": [
        {
          "output_type": "stream",
          "name": "stdout",
          "text": [
            "Digite um numero2\n",
            "Digite outro numero2\n",
            "O resutado da soma de 2 e 2 é 4\n"
          ]
        }
      ]
    },
    {
      "cell_type": "code",
      "source": [
        "#Dia 2 - Soma de dois numeros 2\n",
        "\n",
        "def soma(numero1, numero2):\n",
        "    resultado = numero1 + numero2\n",
        "    return resultado\n",
        "\n",
        "numero1 = int(input(\"Digite um numero: \"))\n",
        "numero2 = int(input(\"Digite outro numero: \"))\n",
        "\n",
        "resultado = soma(numero1, numero2)\n",
        "\n",
        "print(f\"O resutado da soma de {numero1} e { numero2} é {resultado}\")"
      ],
      "metadata": {
        "colab": {
          "base_uri": "https://localhost:8080/"
        },
        "id": "hqROYB9L0v_H",
        "outputId": "f8c12c58-c98e-492c-fe07-88a5eeb869a0"
      },
      "execution_count": null,
      "outputs": [
        {
          "output_type": "stream",
          "name": "stdout",
          "text": [
            "Digite um numero: 2\n",
            "Digite outro numero: 2\n",
            "O resutado da soma de 2 e 2 é 4\n"
          ]
        }
      ]
    },
    {
      "cell_type": "code",
      "source": [
        "#Dia 3 - Verifica numero par 1\n",
        "\n",
        "numero = int(input(\"Digite um numero: \"))\n",
        "\n",
        "if numero % 2 == 0:\n",
        "    print(\"O numero é par\")\n",
        "else:\n",
        "        print(\"O numero é impar\")"
      ],
      "metadata": {
        "id": "7EMeNuQu2OB5",
        "colab": {
          "base_uri": "https://localhost:8080/"
        },
        "outputId": "6215215d-0fbc-4a47-ec71-06bd11adc197"
      },
      "execution_count": 5,
      "outputs": [
        {
          "output_type": "stream",
          "name": "stdout",
          "text": [
            "Digite um numero: 3\n",
            "O numero é impar\n"
          ]
        }
      ]
    },
    {
      "cell_type": "code",
      "source": [
        "#Dia 3 - Verifica numero par 2\n",
        "\n",
        "entrada = input(\"Digite um numero: \")\n",
        "\n",
        "try:\n",
        "    numero = int(entrada)\n",
        "    if numero % 2 == 0:\n",
        "        print(\"O numero é par\")\n",
        "    else:\n",
        "        print(\"O numero é impar\")\n",
        "except ValueError:\n",
        "    print(\"Entrada inválida. Por favor, digite um número inteiro.\")"
      ],
      "metadata": {
        "colab": {
          "base_uri": "https://localhost:8080/"
        },
        "id": "uEVkabV8X2OZ",
        "outputId": "89a52a48-1e80-45d0-e237-98b8d44d0ca2"
      },
      "execution_count": 10,
      "outputs": [
        {
          "output_type": "stream",
          "name": "stdout",
          "text": [
            "Digite um numero: texto\n",
            "Entrada inválida. Por favor, digite um número inteiro.\n"
          ]
        }
      ]
    },
    {
      "cell_type": "code",
      "source": [
        "#Dia 4 - Laco de repeticao 1\n",
        "\n",
        "for numero in range(11):\n",
        "    print(numero)"
      ],
      "metadata": {
        "id": "h4nfPgpnaLEP",
        "outputId": "1e3d0fd1-f875-4a92-b387-a6cd11ee140e",
        "colab": {
          "base_uri": "https://localhost:8080/"
        }
      },
      "execution_count": 13,
      "outputs": [
        {
          "output_type": "stream",
          "name": "stdout",
          "text": [
            "0\n",
            "1\n",
            "2\n",
            "3\n",
            "4\n",
            "5\n",
            "6\n",
            "7\n",
            "8\n",
            "9\n",
            "10\n"
          ]
        }
      ]
    },
    {
      "cell_type": "code",
      "source": [
        "#Dia 4 - Laco de repeticao 1\n",
        "\n",
        "numero = 0\n",
        "\n",
        "while numero <= 10:\n",
        "    print(numero)\n",
        "    numero += 1"
      ],
      "metadata": {
        "id": "nFoTBvt9bsUG",
        "outputId": "659d5fcc-dd42-4284-e5ef-8ac107ca2ba5",
        "colab": {
          "base_uri": "https://localhost:8080/"
        }
      },
      "execution_count": 14,
      "outputs": [
        {
          "output_type": "stream",
          "name": "stdout",
          "text": [
            "0\n",
            "1\n",
            "2\n",
            "3\n",
            "4\n",
            "5\n",
            "6\n",
            "7\n",
            "8\n",
            "9\n",
            "10\n"
          ]
        }
      ]
    },
    {
      "cell_type": "code",
      "source": [],
      "metadata": {
        "id": "camx_AM9cQmO"
      },
      "execution_count": null,
      "outputs": []
    }
  ]
}